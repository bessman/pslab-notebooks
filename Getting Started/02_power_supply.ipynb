{
 "cells": [
  {
   "cell_type": "markdown",
   "id": "ece723e4",
   "metadata": {},
   "source": [
    "# Power Supply\n",
    "\n",
    "With the PSLab's power supply, we can control programmable voltage and current sources to power many different kinds of experiments.\n",
    "\n",
    "## Requirements\n",
    "\n",
    "- Jumper wire x 3\n",
    "- Smallish resistor (~100R)\n",
    "- LED x 2\n",
    "\n",
    "As usual, start by importing the library and connecting to the device:"
   ]
  },
  {
   "cell_type": "code",
   "execution_count": 1,
   "id": "ed7ae512",
   "metadata": {},
   "outputs": [],
   "source": [
    "import pslab\n",
    "psl = pslab.ScienceLab()"
   ]
  },
  {
   "cell_type": "markdown",
   "id": "424d681d",
   "metadata": {},
   "source": [
    "## Voltage sources\n",
    "\n",
    "The power supply is used by assigning the desired output value to the appropriate pin. We can read back the actual output value by connecting the voltage source pins (PV1-3) to the multimeter:"
   ]
  },
  {
   "cell_type": "code",
   "execution_count": 2,
   "id": "c07ad276",
   "metadata": {},
   "outputs": [
    {
     "data": {
      "text/plain": [
       "0.3271794871794872"
      ]
     },
     "execution_count": 2,
     "metadata": {},
     "output_type": "execute_result"
    }
   ],
   "source": [
    "psl.power_supply.pv1 = 1.7\n",
    "psl.multimeter.measure_voltage()"
   ]
  },
  {
   "cell_type": "markdown",
   "id": "ca1f08e0",
   "metadata": {},
   "source": [
    "### Blinking an LED\n",
    "\n",
    "Now that we've introducted the PSLab's programmable voltage source, we can do the \"Hello world!\" of hardware: Blinking an LED. Connect the positive leg of the LED to PV1, in series with a resistor, per this diagram: "
   ]
  },
  {
   "cell_type": "markdown",
   "id": "c4993520",
   "metadata": {},
   "source": [
    "<img src=\"images/blink_led.svg\" width=\"500\" height=\"340\">"
   ]
  },
  {
   "cell_type": "markdown",
   "id": "7917647f",
   "metadata": {},
   "source": [
    "**Do not connect the LED directly to the PV1 pin without a resistor in series!** If you connect the LED directly to the PV1 pin you may burn out the LED."
   ]
  },
  {
   "cell_type": "code",
   "execution_count": 3,
   "id": "1fa4697b",
   "metadata": {},
   "outputs": [],
   "source": [
    "import time\n",
    "for i in range(20):\n",
    "    psl.power_supply.pv1 = (5, 0)[i % 2]\n",
    "    time.sleep(0.5)"
   ]
  },
  {
   "cell_type": "markdown",
   "id": "6b32ff8e",
   "metadata": {},
   "source": [
    "### Changing the current direction\n",
    "\n",
    "The PV1 and PV2 pins can output negative voltages, i.e. they can drive the current in both directions. In order to measure negative voltages we must use one of CH1-3 as input to the multimeter:"
   ]
  },
  {
   "cell_type": "code",
   "execution_count": 4,
   "id": "e3a20eff",
   "metadata": {},
   "outputs": [
    {
     "data": {
      "text/plain": [
       "-0.09808836996337"
      ]
     },
     "execution_count": 4,
     "metadata": {},
     "output_type": "execute_result"
    }
   ],
   "source": [
    "psl.power_supply.pv1 = -1.7\n",
    "psl.multimeter.measure_voltage(channel=\"CH1\")"
   ]
  },
  {
   "cell_type": "markdown",
   "id": "887d6437",
   "metadata": {},
   "source": [
    "We can visualize this using a second LED connected in parallel with the first, but with reversed polarity:"
   ]
  },
  {
   "cell_type": "markdown",
   "id": "33cf1343",
   "metadata": {},
   "source": [
    "<img src=\"images/blink_led_reverse.svg\" width=\"500\" height=\"340\">"
   ]
  },
  {
   "cell_type": "code",
   "execution_count": 6,
   "id": "78a2f3e3",
   "metadata": {},
   "outputs": [],
   "source": [
    "for i in range(20):\n",
    "    psl.power_supply.pv1 = (5, -5)[i % 2]\n",
    "    time.sleep(0.5)\n",
    "psl.power_supply.pv1 = 0"
   ]
  },
  {
   "cell_type": "markdown",
   "id": "f0747695",
   "metadata": {},
   "source": [
    "## Current source\n",
    "\n",
    "The PCS pin is a programmable current source. It can output a current up to 3.3 mA. In order to measure the generated current, we can connect a resistor between PCS and GND, and also connect the PCS pin to the multimeter.\n",
    "\n",
    "Before we turn on the current, the multimeter will read 0 V, since it's connected to ground via the resistor:"
   ]
  },
  {
   "cell_type": "code",
   "execution_count": 8,
   "id": "60ceefd7",
   "metadata": {},
   "outputs": [
    {
     "data": {
      "text/plain": [
       "0.0"
      ]
     },
     "execution_count": 8,
     "metadata": {},
     "output_type": "execute_result"
    }
   ],
   "source": [
    "psl.multimeter.measure_voltage()"
   ]
  },
  {
   "cell_type": "markdown",
   "id": "b101d912",
   "metadata": {},
   "source": [
    "Once we turn on the current, we can use the multimeter to read the voltage drop across the resistor. In this case we use a 330 Ω resistor."
   ]
  },
  {
   "cell_type": "code",
   "execution_count": 23,
   "id": "eb244efd",
   "metadata": {},
   "outputs": [
    {
     "data": {
      "text/plain": [
       "0.0021611721611721614"
      ]
     },
     "execution_count": 23,
     "metadata": {},
     "output_type": "execute_result"
    }
   ],
   "source": [
    "psl.power_supply.pcs = 2e-3\n",
    "v_drop = psl.multimeter.measure_voltage()\n",
    "v_drop / 330  # Ohm's law, I = U / R"
   ]
  },
  {
   "cell_type": "markdown",
   "id": "3f3cf01b",
   "metadata": {},
   "source": [
    "Be aware that the full current range up to 3.3 mA is not always available; the actual maximum current depends on the load resistance:\n",
    "\n",
    "I_max = 3.3 V / (1 kΩ + R_load)\n",
    "\n",
    "In the case of the 330 Ω resistor we used here, the highest current we can get from the PCS pin is:\n",
    "\n",
    "3.3 V / 1330 Ω = 2.5 mA\n",
    "\n",
    "Let's take a look at what happens when we try to set a higher current than the source is able to provide:"
   ]
  },
  {
   "cell_type": "code",
   "execution_count": 25,
   "id": "e27bc98f",
   "metadata": {},
   "outputs": [
    {
     "data": {
      "text/plain": [
       "[<matplotlib.lines.Line2D at 0x7f07461e6320>]"
      ]
     },
     "execution_count": 25,
     "metadata": {},
     "output_type": "execute_result"
    },
    {
     "data": {
      "image/png": "[encoded data removed]",
      "text/plain": [
       "<Figure size 640x480 with 1 Axes>"
      ]
     },
     "metadata": {},
     "output_type": "display_data"
    }
   ],
   "source": [
    "import matplotlib.pyplot as plt\n",
    "import numpy as np\n",
    "currents = np.arange(0, 3.3e-3, 1e-4)\n",
    "actual = []\n",
    "for i in currents:\n",
    "    psl.power_supply.pcs = i\n",
    "    v_drop = psl.multimeter.measure_voltage()\n",
    "    actual.append(v_drop / 330)\n",
    "plt.plot(currents, actual)"
   ]
  },
  {
   "cell_type": "markdown",
   "id": "272ec5cf",
   "metadata": {},
   "source": [
    "We see that the actual current starts to drop sharply if a higher current than is available is requested. This highlights the importance of accounting for the load resistance when doing experiments with the current source.\n",
    "\n",
    "That's it for the power source! Next, we will see how we can use the PSLab's oscilloscope to capture large amounts of analog data very quickly."
   ]
  }
 ],
 "metadata": {
  "kernelspec": {
   "display_name": "Python 3 (ipykernel)",
   "language": "python",
   "name": "python3"
  },
  "language_info": {
   "codemirror_mode": {
    "name": "ipython",
    "version": 3
   },
   "file_extension": ".py",
   "mimetype": "text/x-python",
   "name": "python",
   "nbconvert_exporter": "python",
   "pygments_lexer": "ipython3",
   "version": "3.11.6"
  }
 },
 "nbformat": 4,
 "nbformat_minor": 5
}
